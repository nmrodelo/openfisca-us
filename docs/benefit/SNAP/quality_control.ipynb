{
 "cells": [
  {
   "cell_type": "code",
   "execution_count": null,
   "metadata": {},
   "outputs": [],
   "source": [
    "import pandas as pd\n",
    "import numpy as np"
   ]
  },
  {
   "cell_type": "code",
   "execution_count": null,
   "metadata": {},
   "outputs": [],
   "source": [
    "# Load qc_pub_fy2019.csv as a dataframe\n",
    "df = pd.read_csv('qc_pub_fy2019.csv')\n",
    "\n",
    "# create a new df containing only columns with 'DED' in the name\n",
    "\n",
    "df_DED = df.filter(regex='DED')\n",
    "\n",
    "#drop ERN_INC_DED_PCT from df_DED\n",
    "\n",
    "df_DED = df_DED.drop(['ERN_INC_DED_PCT'], axis=1)"
   ]
  },
  {
   "cell_type": "code",
   "execution_count": null,
   "metadata": {},
   "outputs": [],
   "source": [
    "# rename columns FDDEPDED to dependent_deduction, HOMEDED to home_status, SHELDED to reported_shelter_deduction,\n",
    "# FSCSDED to child_support_deduction, FSMDEDDED to medical_deduction, FSERNDED to earned_income_deduction, \n",
    "# FSSLTDED to excess_shelter_deduction, FSSTDED to standard_deduction, FSTOTDED to total_deduction\n",
    "# HOMELESS_DED to homeless_deduction, and ERN_INC_DED_PCT to earned_income_deduction_percentage\n",
    "\n",
    "df_DED.rename(columns={'FDDEPDED':'dependent_deduction', 'HOMEDED':'home_status', 'SHELDED':'reported_shelter_deduction', \n",
    "                                'FSCSDED':'child_support_deduction', 'FSMDEDDED':'medical_deduction', 'FSERNDED':'earned_income_deduction', \n",
    "                                'FSSLTDED':'excess_shelter_deduction', 'FSSTDED':'standard_deduction', 'FSTOTDED':'total_deduction', \n",
    "                                'HOMELESS_DED':'homeless_deduction', \n",
    "                                'ERN_INC_DED_PCT':'earned_income_deduction_percentage'}, inplace=True)\n",
    "\n",
    "# find what percentage of people are homeless (indicated by a home_status of 2 or 3)\n",
    "homeless_rate_2 = df_DED.loc[df_DED['home_status'] == 2].shape[0]\n",
    "homeless_rate_3 = df_DED.loc[df_DED['home_status'] == 3].shape[0]\n",
    "homeless_rate = (homeless_rate_2 + homeless_rate_3) / df_DED.shape[0]\n",
    "\n",
    "# find what percentage of people claim the dependent_deduction (indicated by a dependent_deduction value > 0)\n",
    "dependent_deduction_takeup = df_DED.loc[df_DED['dependent_deduction'] > 0].shape[0] / df_DED.shape[0]\n",
    "\n",
    "# find what percentage of people claim the child_support_deduction (indicated by a child_support_deduction value > 0)\n",
    "child_support_deduction_takeup = df_DED.loc[df_DED['child_support_deduction'] > 0].shape[0] / df_DED.shape[0]\n",
    "\n",
    "# find what percentage of people claim the medical_deduction (indicated by a medical_deduction value > 0)\n",
    "medical_deduction_takeup = df_DED.loc[df_DED['medical_deduction'] > 0].shape[0] / df_DED.shape[0]\n",
    "\n",
    "# find what percentage of people claim the earned_income_deduction (indicated by a earned_income_deduction value > 0)\n",
    "earned_income_deduction_takeup = df_DED.loc[df_DED['earned_income_deduction'] > 0].shape[0] / df_DED.shape[0]\n",
    "\n",
    "# find what percentage of people claim the excess_shelter_deduction (indicated by a excess_shelter_deduction value > 0)\n",
    "excess_shelter_deduction_takeup = df_DED.loc[df_DED['excess_shelter_deduction'] > 0].shape[0] / df_DED.shape[0]\n",
    "\n",
    "# find what percentage of people claim the standard_deduction (indicated by a standard_deduction value > 0)\n",
    "standard_deduction_takeup = df_DED.loc[df_DED['standard_deduction'] > 0].shape[0] / df_DED.shape[0]\n",
    "\n",
    "# find the average total deduction (for all people with a total_deduction value > 0)\n",
    "average_total_deduction = df_DED.loc[df_DED['total_deduction'] > 0].total_deduction.mean()"
   ]
  },
  {
   "cell_type": "code",
   "execution_count": null,
   "metadata": {},
   "outputs": [],
   "source": [
    "\n",
    "# find what percentage of people who claim the medical_deduction are subject to demonstrating expenses (indicated by medical_deduction value > 0 and require_medical_expense_demonstration value == 1)\n",
    "medical_deduction_demonstration_takeup = df.loc[(df['FSMEDDED'] > 0) & (df['MED_DED_DEMO'] == 1)].shape[0] / df.loc[(df['FSMEDDED'] > 0)].shape[0] * 100\n",
    "\n",
    "# of those who claim the medical_deduction, find what percentage of those who are subject to demonstrating expenses claim the medical_deduction (indicated by medical_deduction value > 0 and require_medical_expense_demonstration value == 1)\n",
    "# (discovered that values for MED_DED_DEMO only exist when there are positive values for medical_deduction from this, no useful comparison)\n",
    "demonstration_takeup = (df.loc[(df['FSMEDDED'] > 0) & (df['MED_DED_DEMO'] == 1)].shape[0]) / df.loc[df['MED_DED_DEMO'] == 1 ].shape[0] * 100\n",
    "\n",
    "# of those who claim the medical deduction, find what percentage of who are NOT subject to demonstrating expenses claim the medical_deduction (indicated by medical_deduction value > 0 and require_medical_expense_demonstration value == 0)\n",
    "non_demonstration_takeup = df.loc[(df['FSMEDDED'] > 0) & (df['MED_DED_DEMO'] == 0)].shape[0] / df.loc[df['MED_DED_DEMO'] == 0].shape[0] * 100\n",
    "\n",
    "print(medical_deduction_demonstration_takeup, demonstration_takeup, non_demonstration_takeup)\n",
    "\n"
   ]
  },
  {
   "cell_type": "code",
   "execution_count": null,
   "metadata": {},
   "outputs": [],
   "source": [
    "# print the values calculated above\n",
    "\n",
    "print('The percentage of people who are homeless is: ' + str(homeless_rate * 100) + '%')\n",
    "\n",
    "print('The percentage of people who claim the dependent_deduction is: ' + str(dependent_deduction_takeup * 100) + '%')\n",
    "\n",
    "print('The percentage of people who claim the child_support_deduction is: ' + str(child_support_deduction_takeup * 100) + '%')\n",
    "\n",
    "print('The percentage of people who claim the medical_deduction is: ' + str(medical_deduction_takeup * 100) + '%')\n",
    "\n",
    "print('The percentage of people who claim the earned_income_deduction is: ' + str(earned_income_deduction_takeup * 100) + '%')\n",
    "\n",
    "print('The percentage of people who claim the excess_shelter_deduction is: ' + str(excess_shelter_deduction_takeup * 100) + '%')\n",
    "\n",
    "print('The percentage of people who claim the standard_deduction is: ' + str(standard_deduction_takeup * 100) + '%')\n",
    "\n",
    "print('The average total deduction is: ' + str(average_total_deduction))"
   ]
  },
  {
   "cell_type": "markdown",
   "metadata": {},
   "source": [
    "Among SNAP Participants:\n",
    "\n",
    "The percentage of people who are homeless is: 4.917009570484073%\n",
    "\n",
    "The percentage of people who claim the dependent_deduction is: 3.0214064450506264%\n",
    "\n",
    "The percentage of people who claim the child_support_deduction is: 2.0689814600767487%\n",
    "\n",
    "The percentage of people who claim the medical_deduction is: 5.811641777243516%\n",
    "\n",
    "The percentage of people who claim the earned_income_deduction is: 27.833001988071572%\n",
    "\n",
    "The percentage of people who claim the excess_shelter_deduction is: 68.53298811780479%\n",
    "\n",
    "The percentage of people who claim the standard_deduction is: 98.06740949650931%\n",
    "\n",
    "The average total deduction is: 554.7317860508954"
   ]
  }
 ],
 "metadata": {
  "interpreter": {
   "hash": "f0405246fabe5ec387a11dc0654ce09f8a4d4773d6bf250e469a2edd02a735c0"
  },
  "kernelspec": {
   "display_name": "Python 3.8.8 64-bit ('branch-env': conda)",
   "language": "python",
   "name": "python3"
  },
  "language_info": {
   "name": "python",
   "version": "3.8.8"
  },
  "orig_nbformat": 4
 },
 "nbformat": 4,
 "nbformat_minor": 2
}
